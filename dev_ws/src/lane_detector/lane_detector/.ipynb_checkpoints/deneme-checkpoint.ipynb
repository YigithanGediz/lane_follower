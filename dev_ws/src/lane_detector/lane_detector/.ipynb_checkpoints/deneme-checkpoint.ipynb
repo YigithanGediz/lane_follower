{
 "cells": [
  {
   "cell_type": "code",
   "execution_count": 2,
   "id": "earlier-concord",
   "metadata": {},
   "outputs": [],
   "source": [
    "from make_predictions import *\n",
    "import cv2\n",
    "import numpy as np\n",
    "import os"
   ]
  },
  {
   "cell_type": "code",
   "execution_count": 3,
   "id": "opponent-vancouver",
   "metadata": {},
   "outputs": [],
   "source": [
    "model_path = \"/home/yigithan/Lanenet-Ali/TUSIMPLE/Ali-modeller/2.model\"\n",
    "device_name = \"gpu\"\n",
    "model_object, device= load_model(model_path, device_name=device_name)"
   ]
  },
  {
   "cell_type": "code",
   "execution_count": 4,
   "id": "cubic-router",
   "metadata": {},
   "outputs": [],
   "source": [
    "folder_path = \"/home/yigithan/sim_tryouts/dev_ws/src/image_capturer/left_images/\"\n",
    "imnames = os.listdir(folder_path)"
   ]
  },
  {
   "cell_type": "code",
   "execution_count": null,
   "id": "senior-fireplace",
   "metadata": {},
   "outputs": [],
   "source": [
    "channels = [0, 2]\n",
    "for name in imnames:\n",
    "    img = cv2.imread(os.path.join(folder_path, name))\n",
    "    prediction = predict_from_array(np.array([img]), model_object, (512,256), device_name)[0]\n",
    "    indexes = [np.where(prediction[:, :, channel] > 0.5) for channel in channels]\n",
    "    img[indexes[0]] = (255,0,0)\n",
    "    img[indexes[1]] = (0,255,0)\n",
    "    cv2.imshow(\"w\",img)\n",
    "    cv2.waitKey(0)\n",
    "    cv2.destroyAllWindows()\n",
    "    break"
   ]
  },
  {
   "cell_type": "code",
   "execution_count": null,
   "id": "living-costs",
   "metadata": {},
   "outputs": [],
   "source": []
  }
 ],
 "metadata": {
  "kernelspec": {
   "display_name": "Python 3",
   "language": "python",
   "name": "python3"
  },
  "language_info": {
   "codemirror_mode": {
    "name": "ipython",
    "version": 3
   },
   "file_extension": ".py",
   "mimetype": "text/x-python",
   "name": "python",
   "nbconvert_exporter": "python",
   "pygments_lexer": "ipython3",
   "version": "3.6.9"
  }
 },
 "nbformat": 4,
 "nbformat_minor": 5
}
